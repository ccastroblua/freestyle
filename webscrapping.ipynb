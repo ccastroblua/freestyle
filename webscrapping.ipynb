{
 "cells": [
  {
   "cell_type": "code",
   "execution_count": 3,
   "id": "493803f1",
   "metadata": {},
   "outputs": [
    {
     "name": "stdout",
     "output_type": "stream",
     "text": [
      "Collecting requests\n",
      "  Downloading requests-2.28.1-py3-none-any.whl (62 kB)\n",
      "\u001b[K     |████████████████████████████████| 62 kB 3.0 MB/s eta 0:00:01\n",
      "\u001b[?25hRequirement already satisfied: certifi>=2017.4.17 in /home/ccastroblua/anaconda3/envs/personal/lib/python3.10/site-packages (from requests) (2022.6.15)\n",
      "Collecting urllib3<1.27,>=1.21.1\n",
      "  Downloading urllib3-1.26.10-py2.py3-none-any.whl (139 kB)\n",
      "\u001b[K     |████████████████████████████████| 139 kB 6.0 MB/s eta 0:00:01\n",
      "\u001b[?25hCollecting charset-normalizer<3,>=2\n",
      "  Downloading charset_normalizer-2.1.0-py3-none-any.whl (39 kB)\n",
      "Collecting idna<4,>=2.5\n",
      "  Downloading idna-3.3-py3-none-any.whl (61 kB)\n",
      "\u001b[K     |████████████████████████████████| 61 kB 7.2 MB/s eta 0:00:01\n",
      "\u001b[?25hInstalling collected packages: urllib3, idna, charset-normalizer, requests\n",
      "Successfully installed charset-normalizer-2.1.0 idna-3.3 requests-2.28.1 urllib3-1.26.10\n"
     ]
    }
   ],
   "source": [
    "!pip install requests"
   ]
  },
  {
   "cell_type": "code",
   "execution_count": 1,
   "id": "079d825b",
   "metadata": {},
   "outputs": [],
   "source": [
    "import requests\n",
    "from bs4 import BeautifulSoup\n",
    "import locale\n",
    "from datetime import datetime"
   ]
  },
  {
   "cell_type": "code",
   "execution_count": 2,
   "id": "d74ec9a0",
   "metadata": {},
   "outputs": [],
   "source": [
    "url_fms_arg = 'https://mundofreestyle.com/calendario-fms-argentina/'"
   ]
  },
  {
   "cell_type": "code",
   "execution_count": 3,
   "id": "0a0c7122",
   "metadata": {},
   "outputs": [
    {
     "data": {
      "text/plain": [
       "200"
      ]
     },
     "execution_count": 3,
     "metadata": {},
     "output_type": "execute_result"
    }
   ],
   "source": [
    "response = requests.get(url=url_fms_arg)\n",
    "response.status_code"
   ]
  },
  {
   "cell_type": "code",
   "execution_count": 4,
   "id": "4acf090a",
   "metadata": {},
   "outputs": [],
   "source": [
    "soup = BeautifulSoup(response.content)"
   ]
  },
  {
   "cell_type": "code",
   "execution_count": 5,
   "id": "12078b63",
   "metadata": {},
   "outputs": [],
   "source": [
    "fms_tables_titles = soup.select('h3 strong')\n",
    "fms_tables = soup.find_all(name='table')"
   ]
  },
  {
   "cell_type": "code",
   "execution_count": 6,
   "id": "f5f6dd0e",
   "metadata": {},
   "outputs": [
    {
     "data": {
      "text/plain": [
       "['Fechas y ciudades – Temporada 2022',\n",
       " 'Temporada 2020/2021',\n",
       " 'Temporada 2019',\n",
       " '¡Vive todos los eventos y fechas de FMS Argentina!']"
      ]
     },
     "execution_count": 6,
     "metadata": {},
     "output_type": "execute_result"
    }
   ],
   "source": [
    "[title.text for title in fms_tables_titles]"
   ]
  },
  {
   "cell_type": "code",
   "execution_count": 7,
   "id": "3fc52706",
   "metadata": {},
   "outputs": [
    {
     "data": {
      "text/plain": [
       "<table style=\"color: var( --e-global-color-text ); font-family: var( --e-global-typography-text-font-family ), Sans-serif; font-weight: var( --e-global-typography-text-font-weight ); height: 310px;\" width=\"210\">\n",
       "<tbody>\n",
       "<tr>\n",
       "<td> </td>\n",
       "<td><strong>Fecha</strong></td>\n",
       "<td><strong>Ciudad</strong></td>\n",
       "</tr>\n",
       "<tr>\n",
       "<td>1</td>\n",
       "<td>4 de diciembre de 2021</td>\n",
       "<td>Mendoza</td>\n",
       "</tr>\n",
       "<tr>\n",
       "<td>2</td>\n",
       "<td>29 de diciembre de 2021</td>\n",
       "<td>Buenos Aires</td>\n",
       "</tr>\n",
       "<tr>\n",
       "<td>3</td>\n",
       "<td>30 de abril de 2022</td>\n",
       "<td>La Plata</td>\n",
       "</tr>\n",
       "<tr>\n",
       "<td>4</td>\n",
       "<td>18 de junio de 2022</td>\n",
       "<td>Rosario</td>\n",
       "</tr>\n",
       "<tr>\n",
       "<td>5</td>\n",
       "<td>27 de agosto de 2022</td>\n",
       "<td>Corrientes</td>\n",
       "</tr>\n",
       "<tr>\n",
       "<td>6</td>\n",
       "<td></td><td> </td>\n",
       "</tr>\n",
       "<tr>\n",
       "<td>7</td>\n",
       "<td></td><td> </td>\n",
       "</tr>\n",
       "<tr>\n",
       "<td>8</td>\n",
       "<td></td><td> </td>\n",
       "</tr>\n",
       "<tr>\n",
       "<td>9</td>\n",
       "<td></td><td> </td>\n",
       "</tr>\n",
       "<tr>\n",
       "<td>10</td>\n",
       "<td></td><td> </td>\n",
       "</tr>\n",
       "<tr>\n",
       "<td>11</td>\n",
       "<td></td><td> </td>\n",
       "</tr>\n",
       "</tbody>\n",
       "</table>"
      ]
     },
     "execution_count": 7,
     "metadata": {},
     "output_type": "execute_result"
    }
   ],
   "source": [
    "fms_tables[0]"
   ]
  },
  {
   "cell_type": "code",
   "execution_count": 8,
   "id": "9996d5f3",
   "metadata": {},
   "outputs": [
    {
     "data": {
      "text/plain": [
       "'29 de diciembre de 2021'"
      ]
     },
     "execution_count": 8,
     "metadata": {},
     "output_type": "execute_result"
    }
   ],
   "source": [
    "fms_tables[0].select('tr')[2].select('td')[1].text"
   ]
  },
  {
   "cell_type": "code",
   "execution_count": 9,
   "id": "4b9f3884",
   "metadata": {},
   "outputs": [],
   "source": [
    "# Testing how to convert a string date into a date type date:\n",
    "\n",
    "test_date = str(fms_tables[0].select('tr')[2].select('td')[1].text)\n",
    "test_date_clean = \",\".join([word for word in test_date.split(\" \") if word != 'de'])"
   ]
  },
  {
   "cell_type": "code",
   "execution_count": 17,
   "id": "197737f6",
   "metadata": {},
   "outputs": [
    {
     "name": "stdout",
     "output_type": "stream",
     "text": [
      "2021-12-29\n"
     ]
    }
   ],
   "source": [
    "locale.setlocale(locale.LC_ALL, 'es_ES.utf8')\n",
    "\n",
    "# date_str_es = '27-Octubre-2020'  # es_ES locale\n",
    "# datetime_object = datetime.strptime(date_str_es, '%d-%B-%Y')\n",
    "datetime_object = datetime.strptime(test_date_clean, '%d,%B,%Y')\n",
    "print(datetime_object.date())"
   ]
  },
  {
   "cell_type": "code",
   "execution_count": null,
   "id": "f9b661e7",
   "metadata": {},
   "outputs": [],
   "source": [
    "def make_fms_table(soup):\n",
    "    fms_tables_titles = soup.select('h3 strong')\n",
    "    fms_tables = soup.find_all(name='table')\n",
    "    \n",
    "    # Getting the first table of each FMS league and let's convert it into a dataframe:\n",
    "    fms_tables[0].select('tr')\n",
    "    \n",
    "    "
   ]
  }
 ],
 "metadata": {
  "kernelspec": {
   "display_name": "personal",
   "language": "python",
   "name": "personal"
  },
  "language_info": {
   "codemirror_mode": {
    "name": "ipython",
    "version": 3
   },
   "file_extension": ".py",
   "mimetype": "text/x-python",
   "name": "python",
   "nbconvert_exporter": "python",
   "pygments_lexer": "ipython3",
   "version": "3.10.4"
  }
 },
 "nbformat": 4,
 "nbformat_minor": 5
}
