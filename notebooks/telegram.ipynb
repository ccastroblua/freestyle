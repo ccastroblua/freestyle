{
 "cells": [
  {
   "cell_type": "code",
   "execution_count": null,
   "id": "787ab06f",
   "metadata": {},
   "outputs": [],
   "source": [
    "# importing all required libraries\n",
    "import telebot\n",
    "from telethon.sync import TelegramClient\n",
    "from telethon.tl.types import InputPeerUser, InputPeerChannel\n",
    "from telethon import TelegramClient, sync, events\n",
    "\n",
    "\n",
    "# get your api_id, api_hash, token\n",
    "# from telegram as described above\n",
    "api_id = 'API_id'\n",
    "api_hash = 'API_hash'\n",
    "token = 'bot token'\n",
    "message = \"Working...\"\n",
    "\n",
    "# your phone number\n",
    "phone = 'YOUR_PHONE_NUMBER_WTH_COUNTRY_CODE'\n",
    "\n",
    "# creating a telegram session and assigning\n",
    "# it to a variable client\n",
    "client = TelegramClient('session', api_id, api_hash)\n",
    "\n",
    "# connecting and building the session\n",
    "client.connect()\n",
    "\n",
    "# in case of script ran first time it will\n",
    "# ask either to input token or otp sent to\n",
    "# number or sent or your telegram id\n",
    "if not client.is_user_authorized():\n",
    "\n",
    "\tclient.send_code_request(phone)\n",
    "\t\n",
    "\t# signing in the client\n",
    "\tclient.sign_in(phone, input('Enter the code: '))\n",
    "\n",
    "\n",
    "try:\n",
    "\t# receiver user_id and access_hash, use\n",
    "\t# my user_id and access_hash for reference\n",
    "\treceiver = InputPeerUser('user_id', 'user_hash')\n",
    "\n",
    "\t# sending message using telegram client\n",
    "\tclient.send_message(receiver, message, parse_mode='html')\n",
    "except Exception as e:\n",
    "\t\n",
    "\t# there may be many error coming in while like peer\n",
    "\t# error, wrong access_hash, flood_error, etc\n",
    "\tprint(e);\n",
    "\n",
    "# disconnecting the telegram session\n",
    "client.disconnect()"
   ]
  }
 ],
 "metadata": {
  "kernelspec": {
   "display_name": "personal",
   "language": "python",
   "name": "personal"
  },
  "language_info": {
   "codemirror_mode": {
    "name": "ipython",
    "version": 3
   },
   "file_extension": ".py",
   "mimetype": "text/x-python",
   "name": "python",
   "nbconvert_exporter": "python",
   "pygments_lexer": "ipython3",
   "version": "3.10.4"
  }
 },
 "nbformat": 4,
 "nbformat_minor": 5
}
