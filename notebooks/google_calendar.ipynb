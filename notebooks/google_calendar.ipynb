{
 "cells": [
  {
   "cell_type": "markdown",
   "id": "8602315d",
   "metadata": {},
   "source": [
    "## Testing google calendar API:"
   ]
  },
  {
   "cell_type": "markdown",
   "id": "54da84ef",
   "metadata": {},
   "source": [
    "#### Installing the google calendar API:"
   ]
  },
  {
   "cell_type": "code",
   "execution_count": 2,
   "id": "75565206",
   "metadata": {},
   "outputs": [],
   "source": [
    "# Installing \n",
    "\n",
    "# !pip install --upgrade google-api-python-client google-auth-httplib2 google-auth-oauthlib"
   ]
  },
  {
   "cell_type": "markdown",
   "id": "9e96d1e8",
   "metadata": {},
   "source": [
    "#### importing library:"
   ]
  },
  {
   "cell_type": "code",
   "execution_count": 4,
   "id": "af5dc3c7",
   "metadata": {},
   "outputs": [],
   "source": [
    "from datetime import datetime, timedelta\n",
    "from googleapiclient.discovery import build\n",
    "from google_auth_oauthlib.flow import InstalledAppFlow\n",
    "from google.auth.transport.requests import Request"
   ]
  },
  {
   "cell_type": "code",
   "execution_count": 8,
   "id": "e61945e0",
   "metadata": {},
   "outputs": [
    {
     "name": "stdout",
     "output_type": "stream",
     "text": [
      "Please visit this URL to authorize this application: https://accounts.google.com/o/oauth2/auth?response_type=code&client_id=19089617150-hbu5r4111v2s9reu87smtdlevsobc97l.apps.googleusercontent.com&redirect_uri=http%3A%2F%2Flocalhost%3A34843%2F&scope=https%3A%2F%2Fwww.googleapis.com%2Fauth%2Fcalendar&state=IUCsV33K3igy655VcGyE6AZfiDPN2a&access_type=offline\n"
     ]
    },
    {
     "ename": "KeyboardInterrupt",
     "evalue": "",
     "output_type": "error",
     "traceback": [
      "\u001b[0;31m---------------------------------------------------------------------------\u001b[0m",
      "\u001b[0;31mKeyboardInterrupt\u001b[0m                         Traceback (most recent call last)",
      "Input \u001b[0;32mIn [8]\u001b[0m, in \u001b[0;36m<cell line: 5>\u001b[0;34m()\u001b[0m\n\u001b[1;32m      2\u001b[0m CREDENTIALS_FILE \u001b[38;5;241m=\u001b[39m \u001b[38;5;124m'\u001b[39m\u001b[38;5;124m../client_secret.json\u001b[39m\u001b[38;5;124m'\u001b[39m\n\u001b[1;32m      4\u001b[0m flow \u001b[38;5;241m=\u001b[39m InstalledAppFlow\u001b[38;5;241m.\u001b[39mfrom_client_secrets_file(CREDENTIALS_FILE, SCOPES)\n\u001b[0;32m----> 5\u001b[0m creds \u001b[38;5;241m=\u001b[39m \u001b[43mflow\u001b[49m\u001b[38;5;241;43m.\u001b[39;49m\u001b[43mrun_local_server\u001b[49m\u001b[43m(\u001b[49m\u001b[43mport\u001b[49m\u001b[38;5;241;43m=\u001b[39;49m\u001b[38;5;241;43m0\u001b[39;49m\u001b[43m)\u001b[49m\n\u001b[1;32m      6\u001b[0m service \u001b[38;5;241m=\u001b[39m build(\u001b[38;5;124m'\u001b[39m\u001b[38;5;124mcalendar\u001b[39m\u001b[38;5;124m'\u001b[39m, \u001b[38;5;124m'\u001b[39m\u001b[38;5;124mv3\u001b[39m\u001b[38;5;124m'\u001b[39m, credentials\u001b[38;5;241m=\u001b[39mcreds)\n",
      "File \u001b[0;32m~/anaconda3/envs/personal/lib/python3.10/site-packages/google_auth_oauthlib/flow.py:500\u001b[0m, in \u001b[0;36mInstalledAppFlow.run_local_server\u001b[0;34m(self, host, port, authorization_prompt_message, success_message, open_browser, redirect_uri_trailing_slash, **kwargs)\u001b[0m\n\u001b[1;32m    496\u001b[0m     webbrowser\u001b[38;5;241m.\u001b[39mopen(auth_url, new\u001b[38;5;241m=\u001b[39m\u001b[38;5;241m1\u001b[39m, autoraise\u001b[38;5;241m=\u001b[39m\u001b[38;5;28;01mTrue\u001b[39;00m)\n\u001b[1;32m    498\u001b[0m \u001b[38;5;28mprint\u001b[39m(authorization_prompt_message\u001b[38;5;241m.\u001b[39mformat(url\u001b[38;5;241m=\u001b[39mauth_url))\n\u001b[0;32m--> 500\u001b[0m \u001b[43mlocal_server\u001b[49m\u001b[38;5;241;43m.\u001b[39;49m\u001b[43mhandle_request\u001b[49m\u001b[43m(\u001b[49m\u001b[43m)\u001b[49m\n\u001b[1;32m    502\u001b[0m \u001b[38;5;66;03m# Note: using https here because oauthlib is very picky that\u001b[39;00m\n\u001b[1;32m    503\u001b[0m \u001b[38;5;66;03m# OAuth 2.0 should only occur over https.\u001b[39;00m\n\u001b[1;32m    504\u001b[0m authorization_response \u001b[38;5;241m=\u001b[39m wsgi_app\u001b[38;5;241m.\u001b[39mlast_request_uri\u001b[38;5;241m.\u001b[39mreplace(\u001b[38;5;124m\"\u001b[39m\u001b[38;5;124mhttp\u001b[39m\u001b[38;5;124m\"\u001b[39m, \u001b[38;5;124m\"\u001b[39m\u001b[38;5;124mhttps\u001b[39m\u001b[38;5;124m\"\u001b[39m)\n",
      "File \u001b[0;32m~/anaconda3/envs/personal/lib/python3.10/socketserver.py:294\u001b[0m, in \u001b[0;36mBaseServer.handle_request\u001b[0;34m(self)\u001b[0m\n\u001b[1;32m    291\u001b[0m selector\u001b[38;5;241m.\u001b[39mregister(\u001b[38;5;28mself\u001b[39m, selectors\u001b[38;5;241m.\u001b[39mEVENT_READ)\n\u001b[1;32m    293\u001b[0m \u001b[38;5;28;01mwhile\u001b[39;00m \u001b[38;5;28;01mTrue\u001b[39;00m:\n\u001b[0;32m--> 294\u001b[0m     ready \u001b[38;5;241m=\u001b[39m \u001b[43mselector\u001b[49m\u001b[38;5;241;43m.\u001b[39;49m\u001b[43mselect\u001b[49m\u001b[43m(\u001b[49m\u001b[43mtimeout\u001b[49m\u001b[43m)\u001b[49m\n\u001b[1;32m    295\u001b[0m     \u001b[38;5;28;01mif\u001b[39;00m ready:\n\u001b[1;32m    296\u001b[0m         \u001b[38;5;28;01mreturn\u001b[39;00m \u001b[38;5;28mself\u001b[39m\u001b[38;5;241m.\u001b[39m_handle_request_noblock()\n",
      "File \u001b[0;32m~/anaconda3/envs/personal/lib/python3.10/selectors.py:416\u001b[0m, in \u001b[0;36m_PollLikeSelector.select\u001b[0;34m(self, timeout)\u001b[0m\n\u001b[1;32m    414\u001b[0m ready \u001b[38;5;241m=\u001b[39m []\n\u001b[1;32m    415\u001b[0m \u001b[38;5;28;01mtry\u001b[39;00m:\n\u001b[0;32m--> 416\u001b[0m     fd_event_list \u001b[38;5;241m=\u001b[39m \u001b[38;5;28;43mself\u001b[39;49m\u001b[38;5;241;43m.\u001b[39;49m\u001b[43m_selector\u001b[49m\u001b[38;5;241;43m.\u001b[39;49m\u001b[43mpoll\u001b[49m\u001b[43m(\u001b[49m\u001b[43mtimeout\u001b[49m\u001b[43m)\u001b[49m\n\u001b[1;32m    417\u001b[0m \u001b[38;5;28;01mexcept\u001b[39;00m \u001b[38;5;167;01mInterruptedError\u001b[39;00m:\n\u001b[1;32m    418\u001b[0m     \u001b[38;5;28;01mreturn\u001b[39;00m ready\n",
      "\u001b[0;31mKeyboardInterrupt\u001b[0m: "
     ]
    }
   ],
   "source": [
    "SCOPES = ['https://www.googleapis.com/auth/calendar']\n",
    "CREDENTIALS_FILE = '../client_secret.json'\n",
    "\n",
    "flow = InstalledAppFlow.from_client_secrets_file(CREDENTIALS_FILE, SCOPES)\n",
    "creds = flow.run_local_server(port=0)\n",
    "service = build('calendar', 'v3', credentials=creds)"
   ]
  },
  {
   "cell_type": "code",
   "execution_count": null,
   "id": "9ccfff71",
   "metadata": {},
   "outputs": [],
   "source": [
    "import datetime\n",
    "import pickle\n",
    "import os.path\n",
    "from googleapiclient.discovery import build\n",
    "from google_auth_oauthlib.flow import InstalledAppFlow\n",
    "from google.auth.transport.requests import Request\n",
    "\n",
    "# If modifying these scopes, delete the file token.pickle.\n",
    "SCOPES = ['https://www.googleapis.com/auth/calendar']\n",
    "\n",
    "CREDENTIALS_FILE = 'path_to_file/credentials.json'\n",
    "\n",
    "def get_calendar_service():\n",
    "   creds = None\n",
    "   # The file token.pickle stores the user's access and refresh tokens, and is\n",
    "   # created automatically when the authorization flow completes for the first\n",
    "   # time.\n",
    "   if os.path.exists('token.pickle'):\n",
    "       with open('token.pickle', 'rb') as token:\n",
    "           creds = pickle.load(token)\n",
    "   # If there are no (valid) credentials available, let the user log in.\n",
    "   if not creds or not creds.valid:\n",
    "       if creds and creds.expired and creds.refresh_token:\n",
    "           creds.refresh(Request())\n",
    "       else:\n",
    "           flow = InstalledAppFlow.from_client_secrets_file(\n",
    "               CREDENTIALS_FILE, SCOPES)\n",
    "           creds = flow.run_local_server(port=0)\n",
    "\n",
    "       # Save the credentials for the next run\n",
    "       with open('token.pickle', 'wb') as token:\n",
    "           pickle.dump(creds, token)\n",
    "\n",
    "   service = build('calendar', 'v3', credentials=creds)\n",
    "   return service"
   ]
  },
  {
   "cell_type": "markdown",
   "id": "079eddc1",
   "metadata": {},
   "source": [
    "#### Add an event:"
   ]
  },
  {
   "cell_type": "code",
   "execution_count": null,
   "id": "bd73b3fb",
   "metadata": {},
   "outputs": [],
   "source": [
    "from datetime import datetime, timedelta\n",
    "from cal_setup import get_calendar_service\n",
    "\n",
    "\n",
    "def main():\n",
    "   # creates one hour event tomorrow 10 AM IST\n",
    "   service = get_calendar_service()\n",
    "\n",
    "   d = datetime.now().date()\n",
    "   tomorrow = datetime(d.year, d.month, d.day, 10)+timedelta(days=1)\n",
    "   start = tomorrow.isoformat()\n",
    "   end = (tomorrow + timedelta(hours=1)).isoformat()\n",
    "\n",
    "   event_result = service.events().insert(calendarId='primary',\n",
    "       body={\n",
    "           \"summary\": 'Automating calendar',\n",
    "           \"description\": 'This is a tutorial example of automating google calendar with python',\n",
    "           \"start\": {\"dateTime\": start, \"timeZone\": 'Asia/Kolkata'},\n",
    "           \"end\": {\"dateTime\": end, \"timeZone\": 'Asia/Kolkata'},\n",
    "       }\n",
    "   ).execute()\n",
    "\n",
    "   print(\"created event\")\n",
    "   print(\"id: \", event_result['id'])\n",
    "   print(\"summary: \", event_result['summary'])\n",
    "   print(\"starts at: \", event_result['start']['dateTime'])\n",
    "   print(\"ends at: \", event_result['end']['dateTime'])\n",
    "\n",
    "if __name__ == '__main__':\n",
    "   main()"
   ]
  },
  {
   "cell_type": "code",
   "execution_count": null,
   "id": "d6545ae1",
   "metadata": {},
   "outputs": [],
   "source": [
    "event = {\n",
    "  'summary': 'Google I/O 2015',\n",
    "  'location': '800 Howard St., San Francisco, CA 94103',\n",
    "  'description': 'A chance to hear more about Google\\'s developer products.',\n",
    "  'start': {\n",
    "    'dateTime': '2015-05-28T09:00:00-07:00',\n",
    "    'timeZone': 'America/Los_Angeles',\n",
    "  },\n",
    "  'end': {\n",
    "    'dateTime': '2015-05-28T17:00:00-07:00',\n",
    "    'timeZone': 'America/Los_Angeles',\n",
    "  },\n",
    "  'recurrence': [\n",
    "    'RRULE:FREQ=DAILY;COUNT=2'\n",
    "  ],\n",
    "  'attendees': [\n",
    "    {'email': 'lpage@example.com'},\n",
    "    {'email': 'sbrin@example.com'},\n",
    "  ],\n",
    "  'reminders': {\n",
    "    'useDefault': False,\n",
    "    'overrides': [\n",
    "      {'method': 'email', 'minutes': 24 * 60},\n",
    "      {'method': 'popup', 'minutes': 10},\n",
    "    ],\n",
    "  },\n",
    "}\n",
    "\n",
    "event = service.events().insert(calendarId='primary', body=event).execute()\n",
    "print 'Event created: %s' % (event.get('htmlLink'))"
   ]
  }
 ],
 "metadata": {
  "kernelspec": {
   "display_name": "personal",
   "language": "python",
   "name": "personal"
  },
  "language_info": {
   "codemirror_mode": {
    "name": "ipython",
    "version": 3
   },
   "file_extension": ".py",
   "mimetype": "text/x-python",
   "name": "python",
   "nbconvert_exporter": "python",
   "pygments_lexer": "ipython3",
   "version": "3.10.4"
  }
 },
 "nbformat": 4,
 "nbformat_minor": 5
}
