{
 "cells": [
  {
   "cell_type": "markdown",
   "id": "33d2e86d",
   "metadata": {},
   "source": [
    "## Testing google calendar API:"
   ]
  },
  {
   "cell_type": "markdown",
   "id": "48d7e4aa",
   "metadata": {},
   "source": [
    "#### Installing the google calendar API:"
   ]
  },
  {
   "cell_type": "code",
   "execution_count": 2,
   "id": "a924cab1",
   "metadata": {},
   "outputs": [],
   "source": [
    "# Installing \n",
    "\n",
    "# !pip install --upgrade google-api-python-client google-auth-httplib2 google-auth-oauthlib"
   ]
  },
  {
   "cell_type": "markdown",
   "id": "6fb681f4",
   "metadata": {},
   "source": [
    "#### importing library:"
   ]
  },
  {
   "cell_type": "code",
   "execution_count": 163,
   "id": "3a7f5434",
   "metadata": {},
   "outputs": [],
   "source": [
    "import os.path\n",
    "import pickle\n",
    "from datetime import datetime, timedelta\n",
    "from googleapiclient.discovery import build\n",
    "from google_auth_oauthlib.flow import InstalledAppFlow\n",
    "from google.auth.transport.requests import Request\n",
    "import pandas as pd\n",
    "from datetime import datetime, timedelta\n",
    "import numpy as np"
   ]
  },
  {
   "cell_type": "markdown",
   "id": "231fe7e0",
   "metadata": {},
   "source": [
    "#### Create a token file:"
   ]
  },
  {
   "cell_type": "code",
   "execution_count": 164,
   "id": "36955862",
   "metadata": {},
   "outputs": [],
   "source": [
    "# If modifying these scopes, delete the file token.pickle.\n",
    "SCOPES = ['https://www.googleapis.com/auth/calendar.events']\n",
    "\n",
    "CREDENTIALS_FILE = '../client_secret.json'\n",
    "\n",
    "def get_calendar_service():\n",
    "   creds = None\n",
    "   # The file token.pickle stores the user's access and refresh tokens, and is\n",
    "   # created automatically when the authorization flow completes for the first\n",
    "   # time.\n",
    "   if os.path.exists('token.pickle'):\n",
    "       with open('token.pickle', 'rb') as token:\n",
    "           creds = pickle.load(token)\n",
    "   # If there are no (valid) credentials available, let the user log in.\n",
    "   if not creds or not creds.valid:\n",
    "       if creds and creds.expired and creds.refresh_token:\n",
    "           creds.refresh(Request())\n",
    "       else:\n",
    "           flow = InstalledAppFlow.from_client_secrets_file(\n",
    "               CREDENTIALS_FILE, SCOPES)\n",
    "           creds = flow.run_local_server(port=0)\n",
    "\n",
    "       # Save the credentials for the next run\n",
    "       with open('token.pickle', 'wb') as token:\n",
    "           pickle.dump(creds, token)\n",
    "\n",
    "   service = build('calendar', 'v3', credentials=creds)\n",
    "   return service"
   ]
  },
  {
   "cell_type": "markdown",
   "id": "c027f457",
   "metadata": {},
   "source": [
    "#### Connect to user's calendar:"
   ]
  },
  {
   "cell_type": "code",
   "execution_count": 165,
   "id": "80d627ed",
   "metadata": {
    "scrolled": true
   },
   "outputs": [
    {
     "data": {
      "text/plain": [
       "<googleapiclient.discovery.Resource at 0x7f3f17d03e50>"
      ]
     },
     "execution_count": 165,
     "metadata": {},
     "output_type": "execute_result"
    }
   ],
   "source": [
    "service = get_calendar_service()\n",
    "service"
   ]
  },
  {
   "cell_type": "markdown",
   "id": "952d9afb",
   "metadata": {},
   "source": [
    "#### Reading data to send the calendar:"
   ]
  },
  {
   "cell_type": "code",
   "execution_count": 23,
   "id": "9854f5c8",
   "metadata": {},
   "outputs": [],
   "source": [
    "fms_dates = pd.read_csv('../data/fms_dates.csv')"
   ]
  },
  {
   "cell_type": "code",
   "execution_count": 24,
   "id": "cb483d45",
   "metadata": {},
   "outputs": [
    {
     "data": {
      "text/html": [
       "<div>\n",
       "<style scoped>\n",
       "    .dataframe tbody tr th:only-of-type {\n",
       "        vertical-align: middle;\n",
       "    }\n",
       "\n",
       "    .dataframe tbody tr th {\n",
       "        vertical-align: top;\n",
       "    }\n",
       "\n",
       "    .dataframe thead th {\n",
       "        text-align: right;\n",
       "    }\n",
       "</style>\n",
       "<table border=\"1\" class=\"dataframe\">\n",
       "  <thead>\n",
       "    <tr style=\"text-align: right;\">\n",
       "      <th></th>\n",
       "      <th>League</th>\n",
       "      <th>#</th>\n",
       "      <th>Date</th>\n",
       "      <th>City</th>\n",
       "    </tr>\n",
       "  </thead>\n",
       "  <tbody>\n",
       "    <tr>\n",
       "      <th>0</th>\n",
       "      <td>Argentina</td>\n",
       "      <td>1</td>\n",
       "      <td>2021-12-04</td>\n",
       "      <td>Mendoza</td>\n",
       "    </tr>\n",
       "    <tr>\n",
       "      <th>1</th>\n",
       "      <td>Argentina</td>\n",
       "      <td>2</td>\n",
       "      <td>2021-12-29</td>\n",
       "      <td>Buenos Aires</td>\n",
       "    </tr>\n",
       "    <tr>\n",
       "      <th>2</th>\n",
       "      <td>Argentina</td>\n",
       "      <td>3</td>\n",
       "      <td>2022-04-30</td>\n",
       "      <td>La Plata</td>\n",
       "    </tr>\n",
       "    <tr>\n",
       "      <th>3</th>\n",
       "      <td>Argentina</td>\n",
       "      <td>4</td>\n",
       "      <td>2022-06-18</td>\n",
       "      <td>Rosario</td>\n",
       "    </tr>\n",
       "    <tr>\n",
       "      <th>4</th>\n",
       "      <td>Argentina</td>\n",
       "      <td>5</td>\n",
       "      <td>2022-08-27</td>\n",
       "      <td>Corrientes</td>\n",
       "    </tr>\n",
       "    <tr>\n",
       "      <th>...</th>\n",
       "      <td>...</td>\n",
       "      <td>...</td>\n",
       "      <td>...</td>\n",
       "      <td>...</td>\n",
       "    </tr>\n",
       "    <tr>\n",
       "      <th>61</th>\n",
       "      <td>Peru</td>\n",
       "      <td>7</td>\n",
       "      <td>NaN</td>\n",
       "      <td>NaN</td>\n",
       "    </tr>\n",
       "    <tr>\n",
       "      <th>62</th>\n",
       "      <td>Peru</td>\n",
       "      <td>8</td>\n",
       "      <td>NaN</td>\n",
       "      <td>NaN</td>\n",
       "    </tr>\n",
       "    <tr>\n",
       "      <th>63</th>\n",
       "      <td>Peru</td>\n",
       "      <td>9</td>\n",
       "      <td>NaN</td>\n",
       "      <td>NaN</td>\n",
       "    </tr>\n",
       "    <tr>\n",
       "      <th>64</th>\n",
       "      <td>Peru</td>\n",
       "      <td>10</td>\n",
       "      <td>NaN</td>\n",
       "      <td>NaN</td>\n",
       "    </tr>\n",
       "    <tr>\n",
       "      <th>65</th>\n",
       "      <td>Peru</td>\n",
       "      <td>11</td>\n",
       "      <td>NaN</td>\n",
       "      <td>NaN</td>\n",
       "    </tr>\n",
       "  </tbody>\n",
       "</table>\n",
       "<p>66 rows × 4 columns</p>\n",
       "</div>"
      ],
      "text/plain": [
       "       League   #        Date          City\n",
       "0   Argentina   1  2021-12-04       Mendoza\n",
       "1   Argentina   2  2021-12-29  Buenos Aires\n",
       "2   Argentina   3  2022-04-30      La Plata\n",
       "3   Argentina   4  2022-06-18       Rosario\n",
       "4   Argentina   5  2022-08-27    Corrientes\n",
       "..        ...  ..         ...           ...\n",
       "61       Peru   7         NaN           NaN\n",
       "62       Peru   8         NaN           NaN\n",
       "63       Peru   9         NaN           NaN\n",
       "64       Peru  10         NaN           NaN\n",
       "65       Peru  11         NaN           NaN\n",
       "\n",
       "[66 rows x 4 columns]"
      ]
     },
     "execution_count": 24,
     "metadata": {},
     "output_type": "execute_result"
    }
   ],
   "source": [
    "fms_dates"
   ]
  },
  {
   "cell_type": "code",
   "execution_count": 136,
   "id": "c00013c3",
   "metadata": {},
   "outputs": [
    {
     "data": {
      "text/html": [
       "<div>\n",
       "<style scoped>\n",
       "    .dataframe tbody tr th:only-of-type {\n",
       "        vertical-align: middle;\n",
       "    }\n",
       "\n",
       "    .dataframe tbody tr th {\n",
       "        vertical-align: top;\n",
       "    }\n",
       "\n",
       "    .dataframe thead th {\n",
       "        text-align: right;\n",
       "    }\n",
       "</style>\n",
       "<table border=\"1\" class=\"dataframe\">\n",
       "  <thead>\n",
       "    <tr style=\"text-align: right;\">\n",
       "      <th></th>\n",
       "      <th>League</th>\n",
       "      <th>#</th>\n",
       "      <th>Date</th>\n",
       "      <th>City</th>\n",
       "    </tr>\n",
       "  </thead>\n",
       "  <tbody>\n",
       "    <tr>\n",
       "      <th>4</th>\n",
       "      <td>Argentina</td>\n",
       "      <td>5</td>\n",
       "      <td>2022-08-27</td>\n",
       "      <td>Corrientes</td>\n",
       "    </tr>\n",
       "  </tbody>\n",
       "</table>\n",
       "</div>"
      ],
      "text/plain": [
       "      League  #        Date        City\n",
       "4  Argentina  5  2022-08-27  Corrientes"
      ]
     },
     "execution_count": 136,
     "metadata": {},
     "output_type": "execute_result"
    }
   ],
   "source": [
    "fms_dates[(fms_dates['League'] == 'Argentina') & (fms_dates['#'] == 5)]"
   ]
  },
  {
   "cell_type": "code",
   "execution_count": 131,
   "id": "fc7af5b2",
   "metadata": {},
   "outputs": [
    {
     "data": {
      "text/plain": [
       "'2022-08-27T00:00:00'"
      ]
     },
     "execution_count": 131,
     "metadata": {},
     "output_type": "execute_result"
    }
   ],
   "source": [
    "start_date = fms_dates[(fms_dates['League'] == 'Argentina') & (fms_dates['#'] == 5)]['Date'].astype('datetime64[ns]').values[0]\n",
    "new_start_date = pd.Timestamp(start_date)\n",
    "new_start_date.isoformat()"
   ]
  },
  {
   "cell_type": "code",
   "execution_count": 134,
   "id": "1bf35fb3",
   "metadata": {},
   "outputs": [
    {
     "data": {
      "text/plain": [
       "'2022-08-27T05:00:00'"
      ]
     },
     "execution_count": 134,
     "metadata": {},
     "output_type": "execute_result"
    }
   ],
   "source": [
    "new_end_date = (new_start_date + timedelta(hours=5))\n",
    "new_end_date.isoformat()"
   ]
  },
  {
   "cell_type": "code",
   "execution_count": 166,
   "id": "864d1851",
   "metadata": {},
   "outputs": [],
   "source": [
    "def getting_fms_date(league, date_number):\n",
    "    df_filtered = fms_dates[(fms_dates['League'] == league) & (fms_dates['#'] == date_number)]\n",
    "    city = df_filtered['City'].values[0]\n",
    "    \n",
    "    start_date = pd.Timestamp(df_filtered['Date'].astype('datetime64[ns]').values[0])\n",
    "    end_date = start_date + timedelta(hours=5)\n",
    "    \n",
    "    # time = EVENTUALLY WE WILL GET THE TIME\n",
    "    \n",
    "    return start_date.isoformat(), end_date.isoformat(), city #, time"
   ]
  },
  {
   "cell_type": "code",
   "execution_count": 157,
   "id": "63db20ae",
   "metadata": {},
   "outputs": [
    {
     "data": {
      "text/plain": [
       "('2021-12-29T00:00:00', '2021-12-29T05:00:00', 'Buenos Aires')"
      ]
     },
     "execution_count": 157,
     "metadata": {},
     "output_type": "execute_result"
    }
   ],
   "source": [
    "getting_fms_date('Argentina', 2)"
   ]
  },
  {
   "cell_type": "markdown",
   "id": "7d066346",
   "metadata": {},
   "source": [
    "#### Add an event:"
   ]
  },
  {
   "cell_type": "code",
   "execution_count": 167,
   "id": "8042d67d",
   "metadata": {},
   "outputs": [],
   "source": [
    "def adding_an_event(league, date_number, city, start_datetime, end_datetime):\n",
    "   service = get_calendar_service()\n",
    "\n",
    "   event_result = service.events().insert(calendarId='primary',\n",
    "       body={\n",
    "           \"summary\": f'FMS {league} Jornada {date_number}',\n",
    "           \"description\": f'FMS {league} en {city}. Jornada {date_number}',\n",
    "           \"start\": {\"dateTime\": new_start_date.isoformat(), \"timeZone\": 'Europe/Madrid'},\n",
    "           \"end\": {\"dateTime\": new_end_date.isoformat(), \"timeZone\": 'Europe/Madrid'},\n",
    "           \"reminders\": {\n",
    "                'useDefault': False,\n",
    "                'overrides': [\n",
    "                  {'method': 'email', 'minutes': 60},\n",
    "                  {'method': 'popup', 'minutes': 10},\n",
    "                            ],\n",
    "                        },\n",
    "            }\n",
    "   ).execute()\n",
    "\n",
    "   print(\"Created event\")\n",
    "   print(\"Id: \", event_result['id'])\n",
    "   print(\"Summary: \", event_result['summary'])\n",
    "   print(\"Starts at: \", event_result['start']['dateTime'])\n",
    "   print(\"Ends at: \", event_result['end']['dateTime'])"
   ]
  },
  {
   "cell_type": "markdown",
   "id": "6c2e788e",
   "metadata": {},
   "source": [
    "#### Creating the event using the functions:"
   ]
  },
  {
   "cell_type": "code",
   "execution_count": 168,
   "id": "9c9b16f4",
   "metadata": {
    "scrolled": true
   },
   "outputs": [
    {
     "name": "stdout",
     "output_type": "stream",
     "text": [
      "Created event\n",
      "Id:  7a7epm4h5rka0fq2q2tpftvpcg\n",
      "Summary:  FMS Argentina Jornada 5\n",
      "Starts at:  2022-08-27T00:00:00+02:00\n",
      "Ends at:  2022-08-27T05:00:00+02:00\n"
     ]
    }
   ],
   "source": [
    "country = 'Argentina'\n",
    "event_number = 5\n",
    "\n",
    "event_list = getting_fms_date(country, event_number)\n",
    "adding_an_event(country, event_number, event_list[2], event_list[0], event_list[1])"
   ]
  }
 ],
 "metadata": {
  "kernelspec": {
   "display_name": "personal",
   "language": "python",
   "name": "personal"
  },
  "language_info": {
   "codemirror_mode": {
    "name": "ipython",
    "version": 3
   },
   "file_extension": ".py",
   "mimetype": "text/x-python",
   "name": "python",
   "nbconvert_exporter": "python",
   "pygments_lexer": "ipython3",
   "version": "3.10.4"
  }
 },
 "nbformat": 4,
 "nbformat_minor": 5
}
